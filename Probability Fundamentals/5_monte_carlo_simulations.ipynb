{
 "cells": [
  {
   "cell_type": "markdown",
   "id": "c380d799-631b-4a94-b087-880e02975477",
   "metadata": {},
   "source": [
    "# Monte Carlo Simulations "
   ]
  },
  {
   "cell_type": "markdown",
   "id": "d81b1867-ce94-4f0d-8091-98b4e3dc5eda",
   "metadata": {},
   "source": [
    "One of the more interesting use cases of probability distributions is using them to create simulations. With **monte carlo simulations**, we can model real-world phenomena we are interested in with random events following probability distributions. We can see how different variables interact with one another and see what outcomes converge. \n",
    "\n",
    "After learning how to extract random values from a normal distribution, we will model a simulation of the Monty Hall problem as well as a customer wait queue. Finally, an exercise will solidify understanding using an elevator weight simulation. "
   ]
  },
  {
   "cell_type": "markdown",
   "id": "482e5ded-6345-4da2-b69e-8da73b6203e9",
   "metadata": {},
   "source": [
    "## Generating Random Values "
   ]
  },
  {
   "cell_type": "markdown",
   "id": "945af186-f85e-4040-830e-9756c7c8d5c1",
   "metadata": {},
   "source": [
    "With just your knowledge of probability distributions, you can actually generate random values from them using a PPF and a randomly generated value between 0 and 1."
   ]
  },
  {
   "cell_type": "code",
   "execution_count": null,
   "id": "689bd18f-d010-4cfa-9d0e-44900e9c2d85",
   "metadata": {},
   "outputs": [],
   "source": [
    "from scipy.stats import norm\n",
    "import random\n",
    "import matplotlib.pyplot as plt\n",
    "\n",
    "mean, std = 0, 1\n",
    "\n",
    "X = []\n",
    "for i in range(100):\n",
    "    # random value between 0 and 1\n",
    "    random_p = random.random()\n",
    "\n",
    "    # look up that that random probability in PPF\n",
    "    random_x = norm.ppf(random_p, mean, std)\n",
    "    \n",
    "    X.append(random_x)\n",
    "\n",
    "plt.plot(X, [0 for _ in X], 'o') # use a scatterplot to make numberline "
   ]
  },
  {
   "cell_type": "markdown",
   "id": "c474d267-b9ba-4a96-b3ef-cb296963f23e",
   "metadata": {},
   "source": [
    "The easiest way to generate random values from any distribution is to use NumPy instead of SciPy, using the distributions in the random package. Below we randomly generate 10 values from the normal distribution, where `loc` is the mean and `scale` is the standard deviation. We will get a vector of values that follow that normal distribution. "
   ]
  },
  {
   "cell_type": "code",
   "execution_count": null,
   "id": "9ba1c57d-c249-43c8-a76d-947f0354f5c9",
   "metadata": {},
   "outputs": [],
   "source": [
    "import numpy as np \n",
    "import matplotlib.pyplot as plt\n",
    "\n",
    "X = np.random.normal(loc=0, scale=1, size=100)\n",
    "\n",
    "print(X)\n",
    "plt.plot(X, [0 for _ in X], 'o') # use a scatterplot to make numberline \n",
    "plt.show()"
   ]
  },
  {
   "cell_type": "code",
   "execution_count": null,
   "id": "0b4804f8-e85b-44d0-8efd-b3d5b584ae9e",
   "metadata": {},
   "outputs": [],
   "source": [
    "from random import randint, choice\n",
    "\n",
    "def random_door(): return randint(1, 3)\n",
    "\n",
    "trial_count = 10000\n",
    "\n",
    "stay_wins = 0\n",
    "switch_wins = 0\n",
    "\n",
    "for i in range(0, trial_count):\n",
    "    prize_door = random_door()\n",
    "    selected_door = random_door()\n",
    "    opened_door = choice([d for d in range(1, 4) if d != selected_door and d != prize_door])\n",
    "    switch_door = choice([d for d in range(1, 4) if d != selected_door and d != opened_door])\n",
    "\n",
    "    if selected_door == prize_door:\n",
    "        stay_wins += 1\n",
    "\n",
    "    if switch_door == prize_door:\n",
    "        switch_wins += 1\n",
    "\n",
    "print(\"STAY WINS: {}, SWITCH WINS: {}\".format(\n",
    "    stay_wins, switch_wins))\n",
    "\n",
    "print(\"STAY WIN RATE: {}, SWITCH WIN RATE: {}\".format(\n",
    "    float(stay_wins)/float(trial_count), float(switch_wins)/float(trial_count)))"
   ]
  },
  {
   "cell_type": "markdown",
   "id": "1ad81832-4eda-4353-aeba-41a1f5662178",
   "metadata": {},
   "source": [
    "## Customer Queue Simulation"
   ]
  },
  {
   "cell_type": "code",
   "execution_count": null,
   "id": "2352faf0-6b5b-4f61-ac2f-853eea82c187",
   "metadata": {},
   "outputs": [],
   "source": [
    "import numpy as np\n",
    "from numpy.random import normal, exponential\n",
    "\n",
    "np.random.seed(0)\n",
    "\n",
    "mean_checkout_time = 3  # minutes\n",
    "std_checkout_time = .5  # minutes\n",
    "mean_arrival_rate = 20 / 60  # customers per minute\n",
    "customer_ct = 100\n",
    "\n",
    "# customer arrival times relative to the previous customer\n",
    "customer_time_betweens = exponential(scale=1/mean_arrival_rate, size=customer_ct+2) # need to add 2 to prevent out-of-index errors\n",
    "\n",
    "# customer arrival times as minutes since start of simulation\n",
    "customer_arrival_times = np.cumsum(customer_time_betweens)\n",
    "\n",
    "# customer checkout times\n",
    "customer_checkout_times = normal(loc=mean_checkout_time, scale=std_checkout_time, size=customer_ct+2) # need to add 2 to prevent out-of-index errors\n",
    "\n",
    "# start time at 0 but jump to first customer arrival, and track whether customer is being processed\n",
    "# and which customers are waiting\n",
    "current_time = customer_arrival_times[0]\n",
    "waiting_customers = []\n",
    "\n",
    "arrived_customer_i = 0\n",
    "processing_customer_i = 0\n",
    "processing_customer_start_time = customer_arrival_times[0]\n",
    "\n",
    "# process customers but stop when max is hit\n",
    "while processing_customer_i < customer_ct and arrived_customer_i < customer_ct:\n",
    "\n",
    "    # arrival time of processing customer\n",
    "    processing_cust_arr_tm = customer_arrival_times[processing_customer_i]\n",
    "\n",
    "    # scheduled finish time of processing customer\n",
    "    processing_cust_fin_tm = processing_customer_start_time + \\\n",
    "                             customer_checkout_times[processing_customer_i]\n",
    "\n",
    "    # time of next customer arrival\n",
    "    def next_cust_arr_tm(): return customer_arrival_times[arrived_customer_i+1]\n",
    "\n",
    "    # CHECK WHICH EVENT OCCURRED BY MATCHING THE TIMES\n",
    "    next_event_time = None\n",
    "\n",
    "    # if the first customer\n",
    "    if current_time == processing_customer_start_time:\n",
    "        print(f\"{current_time}: CUSTOMER {arrived_customer_i} ARRIVED, NO LINE, PROCESSING IMMEDIATELY\")\n",
    "        next_event_time = np.min([processing_cust_fin_tm, next_cust_arr_tm()])\n",
    "\n",
    "    # if a customer arrives\n",
    "    elif current_time == next_cust_arr_tm():\n",
    "        arrived_customer_i +=1 # increment the arrived customer index\n",
    "\n",
    "        # if there is no queue and the arriving customer is next\n",
    "        if processing_customer_i == arrived_customer_i:\n",
    "            processing_customer_start_time = current_time\n",
    "            processing_cust_fin_tm = processing_customer_start_time + customer_checkout_times[processing_customer_i]\n",
    "\n",
    "            print(f\"{current_time}: CUSTOMER {arrived_customer_i} ARRIVED, NO LINE, PROCESSING IMMEDIATELY\")\n",
    "        # else there is a queue and the customer must wait in line\n",
    "        else:\n",
    "            waiting_customers.append(arrived_customer_i)\n",
    "            print(f\"{current_time}: CUSTOMER {arrived_customer_i} ARRIVED, ADDING TO LINE {waiting_customers}\")\n",
    "\n",
    "        # schedule next event time to be the processing customer finishing or the next customer arrival\n",
    "        next_event_time = np.min([processing_cust_fin_tm, next_cust_arr_tm()])\n",
    "\n",
    "    # if a customer finishes processing\n",
    "    elif current_time == processing_cust_fin_tm:\n",
    "\n",
    "        # if queue is not empty, take customer out of queue\n",
    "        if waiting_customers:\n",
    "            waiting_customers.pop(0)\n",
    "            print(f\"{current_time}: CUSTOMER {processing_customer_i} FINISHED, CUSTOMER {processing_customer_i + 1}\"\n",
    "                  f\" REMOVED FROM LINE {waiting_customers}\")\n",
    "\n",
    "            processing_customer_start_time = current_time\n",
    "\n",
    "            # next event is this customer finishing or the next customer arrival\n",
    "            next_event_time = np.min([processing_customer_start_time + customer_checkout_times[processing_customer_i +1],\n",
    "                                      next_cust_arr_tm()])\n",
    "\n",
    "        else:\n",
    "            # if the queue is empty, wait for next customer \n",
    "            print(f\"{current_time}: CUSTOMER {processing_customer_i} FINISHED, WAITING FOR CUSTOMER {processing_customer_i+1}\")\n",
    "            next_event_time = next_cust_arr_tm()\n",
    "\n",
    "        processing_customer_i += 1 # process next customer\n",
    "\n",
    "    # move forward to next event\n",
    "    current_time = next_event_time"
   ]
  },
  {
   "cell_type": "code",
   "execution_count": null,
   "id": "f6bc2dd9-b218-426f-acc5-0cab118cd8d2",
   "metadata": {},
   "outputs": [],
   "source": []
  }
 ],
 "metadata": {
  "kernelspec": {
   "display_name": "anaconda-panel-2023.05-py310",
   "language": "python",
   "name": "conda-env-anaconda-panel-2023.05-py310-py"
  },
  "language_info": {
   "codemirror_mode": {
    "name": "ipython",
    "version": 3
   },
   "file_extension": ".py",
   "mimetype": "text/x-python",
   "name": "python",
   "nbconvert_exporter": "python",
   "pygments_lexer": "ipython3",
   "version": "3.11.5"
  }
 },
 "nbformat": 4,
 "nbformat_minor": 5
}
